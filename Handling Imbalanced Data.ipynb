{
 "cells": [
  {
   "cell_type": "code",
   "execution_count": 1,
   "metadata": {
    "ExecuteTime": {
     "end_time": "2019-08-17T04:48:35.221551Z",
     "start_time": "2019-08-17T04:48:32.558257Z"
    },
    "slideshow": {
     "slide_type": "slide"
    }
   },
   "outputs": [],
   "source": [
    "import numpy as np\n",
    "import pandas as pd\n",
    "import matplotlib.pyplot as plt\n",
    "import seaborn as sns\n",
    "\n",
    "from sklearn.model_selection import train_test_split\n",
    "from sklearn.linear_model import LogisticRegression\n",
    "from sklearn.ensemble import RandomForestClassifier\n",
    "#import lightgbm as lgb\n",
    "\n",
    "from sklearn.utils import resample\n",
    "from imblearn.over_sampling import SMOTE\n",
    "from imblearn.ensemble import BalancedBaggingClassifier\n",
    "\n",
    "from sklearn.metrics import accuracy_score, f1_score, confusion_matrix, recall_score, roc_auc_score, precision_score\n",
    "\n",
    "import warnings\n",
    "warnings.filterwarnings('ignore')\n",
    "pd.options.mode.chained_assignment = None\n",
    "pd.options.display.max_columns = 999\n",
    "import os\n",
    "os.environ['KMP_DUPLICATE_LIB_OK']='True'\n",
    "\n",
    "import xgboost as xgb\n",
    "import lightgbm as lgb"
   ]
  },
  {
   "cell_type": "code",
   "execution_count": 2,
   "metadata": {
    "ExecuteTime": {
     "end_time": "2019-08-17T04:48:35.334006Z",
     "start_time": "2019-08-17T04:48:35.309666Z"
    }
   },
   "outputs": [],
   "source": [
    "def score_plot(actual, predicted):\n",
    "    y_actual = actual\n",
    "    y_predicted = predicted\n",
    "    sub_df = pd.DataFrame({\"y_actual\": y_actual, \"y_predicted\": y_predicted})\n",
    "\n",
    "    f, ax = plt.subplots(nrows=1, ncols=1, sharex=False, sharey=False, squeeze=True, figsize=(16, 6))\n",
    "    sns.distplot(1-sub_df[sub_df['y_actual']==1].y_predicted.values, hist=True, kde=True, rug=False, label=\"Bad\", ax=ax)\n",
    "    sns.distplot(1-sub_df[sub_df['y_actual']==0].y_predicted.values, hist=True, kde=True, rug=False, label=\"Good\", ax=ax)\n",
    "    plt.xlabel('Predicted score')\n",
    "    plt.ylabel('Count')\n",
    "    plt.title('Distribution of score')\n",
    "    plt.legend(loc=\"upper right\")\n",
    "    plt.show()"
   ]
  },
  {
   "cell_type": "code",
   "execution_count": 3,
   "metadata": {
    "ExecuteTime": {
     "end_time": "2019-08-17T04:48:35.468815Z",
     "start_time": "2019-08-17T04:48:35.449958Z"
    },
    "code_folding": [],
    "slideshow": {
     "slide_type": "slide"
    }
   },
   "outputs": [],
   "source": [
    "## Creating Evalution Metrics Function which we will be using\n",
    "def eval_metrics(actual, predicted, predicted_probability):\n",
    "    print(\"Confusion Matrix\")\n",
    "    print(pd.DataFrame(confusion_matrix(actual, predicted)))\n",
    "    print(\"\")\n",
    "    print(\"For Class 1\")\n",
    "    print(\"f1 Score :\", f1_score(actual, predicted))\n",
    "    print(\"Precision Score :\",precision_score(actual, predicted))\n",
    "    print(\"Recall Score :\",recall_score(actual, predicted))\n",
    "    print(\"\")\n",
    "    print(\"For Class 0\")\n",
    "    print(\"f1 Score :\", f1_score(1-np.array(actual), 1-np.array(predicted)))\n",
    "    print(\"Precision Score :\",precision_score(1-np.array(actual), 1-np.array(predicted)))\n",
    "    print(\"Recall Score :\",recall_score(1-np.array(actual), 1-np.array(predicted)))\n",
    "    print(\"\")\n",
    "    print(\"AUROC :\",  roc_auc_score(actual, predicted_probability))\n",
    "    #score_plot(actual, predicted)"
   ]
  },
  {
   "cell_type": "code",
   "execution_count": 4,
   "metadata": {
    "ExecuteTime": {
     "end_time": "2019-08-17T04:49:16.821171Z",
     "start_time": "2019-08-17T04:49:14.371008Z"
    }
   },
   "outputs": [
    {
     "name": "stdout",
     "output_type": "stream",
     "text": [
      "(284807, 31)\n"
     ]
    },
    {
     "data": {
      "text/html": [
       "<div>\n",
       "<style scoped>\n",
       "    .dataframe tbody tr th:only-of-type {\n",
       "        vertical-align: middle;\n",
       "    }\n",
       "\n",
       "    .dataframe tbody tr th {\n",
       "        vertical-align: top;\n",
       "    }\n",
       "\n",
       "    .dataframe thead th {\n",
       "        text-align: right;\n",
       "    }\n",
       "</style>\n",
       "<table border=\"1\" class=\"dataframe\">\n",
       "  <thead>\n",
       "    <tr style=\"text-align: right;\">\n",
       "      <th></th>\n",
       "      <th>Time</th>\n",
       "      <th>V1</th>\n",
       "      <th>V2</th>\n",
       "      <th>V3</th>\n",
       "      <th>V4</th>\n",
       "      <th>V5</th>\n",
       "      <th>V6</th>\n",
       "      <th>V7</th>\n",
       "      <th>V8</th>\n",
       "      <th>V9</th>\n",
       "      <th>V10</th>\n",
       "      <th>V11</th>\n",
       "      <th>V12</th>\n",
       "      <th>V13</th>\n",
       "      <th>V14</th>\n",
       "      <th>V15</th>\n",
       "      <th>V16</th>\n",
       "      <th>V17</th>\n",
       "      <th>V18</th>\n",
       "      <th>V19</th>\n",
       "      <th>V20</th>\n",
       "      <th>V21</th>\n",
       "      <th>V22</th>\n",
       "      <th>V23</th>\n",
       "      <th>V24</th>\n",
       "      <th>V25</th>\n",
       "      <th>V26</th>\n",
       "      <th>V27</th>\n",
       "      <th>V28</th>\n",
       "      <th>Amount</th>\n",
       "      <th>Class</th>\n",
       "    </tr>\n",
       "  </thead>\n",
       "  <tbody>\n",
       "    <tr>\n",
       "      <th>0</th>\n",
       "      <td>0.0</td>\n",
       "      <td>-1.359807</td>\n",
       "      <td>-0.072781</td>\n",
       "      <td>2.536347</td>\n",
       "      <td>1.378155</td>\n",
       "      <td>-0.338321</td>\n",
       "      <td>0.462388</td>\n",
       "      <td>0.239599</td>\n",
       "      <td>0.098698</td>\n",
       "      <td>0.363787</td>\n",
       "      <td>0.090794</td>\n",
       "      <td>-0.551600</td>\n",
       "      <td>-0.617801</td>\n",
       "      <td>-0.991390</td>\n",
       "      <td>-0.311169</td>\n",
       "      <td>1.468177</td>\n",
       "      <td>-0.470401</td>\n",
       "      <td>0.207971</td>\n",
       "      <td>0.025791</td>\n",
       "      <td>0.403993</td>\n",
       "      <td>0.251412</td>\n",
       "      <td>-0.018307</td>\n",
       "      <td>0.277838</td>\n",
       "      <td>-0.110474</td>\n",
       "      <td>0.066928</td>\n",
       "      <td>0.128539</td>\n",
       "      <td>-0.189115</td>\n",
       "      <td>0.133558</td>\n",
       "      <td>-0.021053</td>\n",
       "      <td>149.62</td>\n",
       "      <td>0</td>\n",
       "    </tr>\n",
       "    <tr>\n",
       "      <th>1</th>\n",
       "      <td>0.0</td>\n",
       "      <td>1.191857</td>\n",
       "      <td>0.266151</td>\n",
       "      <td>0.166480</td>\n",
       "      <td>0.448154</td>\n",
       "      <td>0.060018</td>\n",
       "      <td>-0.082361</td>\n",
       "      <td>-0.078803</td>\n",
       "      <td>0.085102</td>\n",
       "      <td>-0.255425</td>\n",
       "      <td>-0.166974</td>\n",
       "      <td>1.612727</td>\n",
       "      <td>1.065235</td>\n",
       "      <td>0.489095</td>\n",
       "      <td>-0.143772</td>\n",
       "      <td>0.635558</td>\n",
       "      <td>0.463917</td>\n",
       "      <td>-0.114805</td>\n",
       "      <td>-0.183361</td>\n",
       "      <td>-0.145783</td>\n",
       "      <td>-0.069083</td>\n",
       "      <td>-0.225775</td>\n",
       "      <td>-0.638672</td>\n",
       "      <td>0.101288</td>\n",
       "      <td>-0.339846</td>\n",
       "      <td>0.167170</td>\n",
       "      <td>0.125895</td>\n",
       "      <td>-0.008983</td>\n",
       "      <td>0.014724</td>\n",
       "      <td>2.69</td>\n",
       "      <td>0</td>\n",
       "    </tr>\n",
       "    <tr>\n",
       "      <th>2</th>\n",
       "      <td>1.0</td>\n",
       "      <td>-1.358354</td>\n",
       "      <td>-1.340163</td>\n",
       "      <td>1.773209</td>\n",
       "      <td>0.379780</td>\n",
       "      <td>-0.503198</td>\n",
       "      <td>1.800499</td>\n",
       "      <td>0.791461</td>\n",
       "      <td>0.247676</td>\n",
       "      <td>-1.514654</td>\n",
       "      <td>0.207643</td>\n",
       "      <td>0.624501</td>\n",
       "      <td>0.066084</td>\n",
       "      <td>0.717293</td>\n",
       "      <td>-0.165946</td>\n",
       "      <td>2.345865</td>\n",
       "      <td>-2.890083</td>\n",
       "      <td>1.109969</td>\n",
       "      <td>-0.121359</td>\n",
       "      <td>-2.261857</td>\n",
       "      <td>0.524980</td>\n",
       "      <td>0.247998</td>\n",
       "      <td>0.771679</td>\n",
       "      <td>0.909412</td>\n",
       "      <td>-0.689281</td>\n",
       "      <td>-0.327642</td>\n",
       "      <td>-0.139097</td>\n",
       "      <td>-0.055353</td>\n",
       "      <td>-0.059752</td>\n",
       "      <td>378.66</td>\n",
       "      <td>0</td>\n",
       "    </tr>\n",
       "    <tr>\n",
       "      <th>3</th>\n",
       "      <td>1.0</td>\n",
       "      <td>-0.966272</td>\n",
       "      <td>-0.185226</td>\n",
       "      <td>1.792993</td>\n",
       "      <td>-0.863291</td>\n",
       "      <td>-0.010309</td>\n",
       "      <td>1.247203</td>\n",
       "      <td>0.237609</td>\n",
       "      <td>0.377436</td>\n",
       "      <td>-1.387024</td>\n",
       "      <td>-0.054952</td>\n",
       "      <td>-0.226487</td>\n",
       "      <td>0.178228</td>\n",
       "      <td>0.507757</td>\n",
       "      <td>-0.287924</td>\n",
       "      <td>-0.631418</td>\n",
       "      <td>-1.059647</td>\n",
       "      <td>-0.684093</td>\n",
       "      <td>1.965775</td>\n",
       "      <td>-1.232622</td>\n",
       "      <td>-0.208038</td>\n",
       "      <td>-0.108300</td>\n",
       "      <td>0.005274</td>\n",
       "      <td>-0.190321</td>\n",
       "      <td>-1.175575</td>\n",
       "      <td>0.647376</td>\n",
       "      <td>-0.221929</td>\n",
       "      <td>0.062723</td>\n",
       "      <td>0.061458</td>\n",
       "      <td>123.50</td>\n",
       "      <td>0</td>\n",
       "    </tr>\n",
       "    <tr>\n",
       "      <th>4</th>\n",
       "      <td>2.0</td>\n",
       "      <td>-1.158233</td>\n",
       "      <td>0.877737</td>\n",
       "      <td>1.548718</td>\n",
       "      <td>0.403034</td>\n",
       "      <td>-0.407193</td>\n",
       "      <td>0.095921</td>\n",
       "      <td>0.592941</td>\n",
       "      <td>-0.270533</td>\n",
       "      <td>0.817739</td>\n",
       "      <td>0.753074</td>\n",
       "      <td>-0.822843</td>\n",
       "      <td>0.538196</td>\n",
       "      <td>1.345852</td>\n",
       "      <td>-1.119670</td>\n",
       "      <td>0.175121</td>\n",
       "      <td>-0.451449</td>\n",
       "      <td>-0.237033</td>\n",
       "      <td>-0.038195</td>\n",
       "      <td>0.803487</td>\n",
       "      <td>0.408542</td>\n",
       "      <td>-0.009431</td>\n",
       "      <td>0.798278</td>\n",
       "      <td>-0.137458</td>\n",
       "      <td>0.141267</td>\n",
       "      <td>-0.206010</td>\n",
       "      <td>0.502292</td>\n",
       "      <td>0.219422</td>\n",
       "      <td>0.215153</td>\n",
       "      <td>69.99</td>\n",
       "      <td>0</td>\n",
       "    </tr>\n",
       "  </tbody>\n",
       "</table>\n",
       "</div>"
      ],
      "text/plain": [
       "   Time        V1        V2        V3        V4        V5        V6        V7  \\\n",
       "0   0.0 -1.359807 -0.072781  2.536347  1.378155 -0.338321  0.462388  0.239599   \n",
       "1   0.0  1.191857  0.266151  0.166480  0.448154  0.060018 -0.082361 -0.078803   \n",
       "2   1.0 -1.358354 -1.340163  1.773209  0.379780 -0.503198  1.800499  0.791461   \n",
       "3   1.0 -0.966272 -0.185226  1.792993 -0.863291 -0.010309  1.247203  0.237609   \n",
       "4   2.0 -1.158233  0.877737  1.548718  0.403034 -0.407193  0.095921  0.592941   \n",
       "\n",
       "         V8        V9       V10       V11       V12       V13       V14  \\\n",
       "0  0.098698  0.363787  0.090794 -0.551600 -0.617801 -0.991390 -0.311169   \n",
       "1  0.085102 -0.255425 -0.166974  1.612727  1.065235  0.489095 -0.143772   \n",
       "2  0.247676 -1.514654  0.207643  0.624501  0.066084  0.717293 -0.165946   \n",
       "3  0.377436 -1.387024 -0.054952 -0.226487  0.178228  0.507757 -0.287924   \n",
       "4 -0.270533  0.817739  0.753074 -0.822843  0.538196  1.345852 -1.119670   \n",
       "\n",
       "        V15       V16       V17       V18       V19       V20       V21  \\\n",
       "0  1.468177 -0.470401  0.207971  0.025791  0.403993  0.251412 -0.018307   \n",
       "1  0.635558  0.463917 -0.114805 -0.183361 -0.145783 -0.069083 -0.225775   \n",
       "2  2.345865 -2.890083  1.109969 -0.121359 -2.261857  0.524980  0.247998   \n",
       "3 -0.631418 -1.059647 -0.684093  1.965775 -1.232622 -0.208038 -0.108300   \n",
       "4  0.175121 -0.451449 -0.237033 -0.038195  0.803487  0.408542 -0.009431   \n",
       "\n",
       "        V22       V23       V24       V25       V26       V27       V28  \\\n",
       "0  0.277838 -0.110474  0.066928  0.128539 -0.189115  0.133558 -0.021053   \n",
       "1 -0.638672  0.101288 -0.339846  0.167170  0.125895 -0.008983  0.014724   \n",
       "2  0.771679  0.909412 -0.689281 -0.327642 -0.139097 -0.055353 -0.059752   \n",
       "3  0.005274 -0.190321 -1.175575  0.647376 -0.221929  0.062723  0.061458   \n",
       "4  0.798278 -0.137458  0.141267 -0.206010  0.502292  0.219422  0.215153   \n",
       "\n",
       "   Amount  Class  \n",
       "0  149.62      0  \n",
       "1    2.69      0  \n",
       "2  378.66      0  \n",
       "3  123.50      0  \n",
       "4   69.99      0  "
      ]
     },
     "execution_count": 4,
     "metadata": {},
     "output_type": "execute_result"
    }
   ],
   "source": [
    "## Data Source https://www.kaggle.com/mlg-ulb/creditcardfraud\n",
    "df = pd.read_csv('SampleData.csv')\n",
    "print(df.shape)\n",
    "df.head()"
   ]
  },
  {
   "cell_type": "code",
   "execution_count": 5,
   "metadata": {
    "ExecuteTime": {
     "end_time": "2019-08-17T04:50:07.898523Z",
     "start_time": "2019-08-17T04:50:07.883278Z"
    }
   },
   "outputs": [
    {
     "data": {
      "text/plain": [
       "0    284315\n",
       "1       492\n",
       "Name: Class, dtype: int64"
      ]
     },
     "execution_count": 5,
     "metadata": {},
     "output_type": "execute_result"
    }
   ],
   "source": [
    "## Class Distribution of the Data\n",
    "df.Class.value_counts()"
   ]
  },
  {
   "cell_type": "markdown",
   "metadata": {},
   "source": [
    "## About Data\n",
    "Time, V1 to V25 and Amount are Vaariables (X)\n",
    "<br>\n",
    "\n",
    "Class is the label (Y)\n",
    "- Class = 0 means not fraud\n",
    "- Class = 1 means fraud\n",
    "<br>\n",
    "\n",
    "Problem Statement : Company wants to reduce their frauds, so create a model which can seperate Frauds from Non-Frauds"
   ]
  },
  {
   "cell_type": "markdown",
   "metadata": {
    "ExecuteTime": {
     "end_time": "2019-08-12T16:33:47.032298Z",
     "start_time": "2019-08-12T16:33:47.023539Z"
    }
   },
   "source": [
    "## Basic Model "
   ]
  },
  {
   "cell_type": "code",
   "execution_count": 6,
   "metadata": {
    "ExecuteTime": {
     "end_time": "2019-08-17T04:50:41.613646Z",
     "start_time": "2019-08-17T04:50:41.369151Z"
    }
   },
   "outputs": [
    {
     "name": "stdout",
     "output_type": "stream",
     "text": [
      "Train Shape (227845, 30)\n",
      "Train Class Distribution\n",
      "0    227457\n",
      "1       388\n",
      "Name: Class, dtype: int64\n",
      "\n",
      "Test Shape (56962, 30)\n",
      "Test Class Distribution\n",
      "0    56858\n",
      "1      104\n",
      "Name: Class, dtype: int64\n"
     ]
    }
   ],
   "source": [
    "## Splitting Data in train test, which we will be using through out the exercise\n",
    "Xtrain, Xtest, ytrain, ytest = train_test_split(df.drop(columns = 'Class'), df.Class, test_size=0.20, random_state=27)\n",
    "print(\"Train Shape\", Xtrain.shape)\n",
    "print(\"Train Class Distribution\")\n",
    "print(ytrain.value_counts())\n",
    "print(\"\")\n",
    "print(\"Test Shape\", Xtest.shape)\n",
    "print(\"Test Class Distribution\")\n",
    "print(ytest.value_counts())\n"
   ]
  },
  {
   "cell_type": "code",
   "execution_count": 7,
   "metadata": {
    "ExecuteTime": {
     "end_time": "2019-08-17T04:51:08.840508Z",
     "start_time": "2019-08-17T04:51:08.752813Z"
    },
    "code_folding": []
   },
   "outputs": [
    {
     "name": "stdout",
     "output_type": "stream",
     "text": [
      "Test score:  0.9981742214107651\n",
      "Confusion Matrix\n",
      "       0  1\n",
      "0  56858  0\n",
      "1    104  0\n"
     ]
    }
   ],
   "source": [
    "# Lets Predict All 0 (Most Frequent)\n",
    "pred_0 = [0]*len(ytest)\n",
    "\n",
    "# Accuracy and Other Evalution Parameters\n",
    "print('Test score: ', accuracy_score(ytest, pred_0))\n",
    "print(\"Confusion Matrix\")\n",
    "print(pd.DataFrame(confusion_matrix(ytest, pred_0)))"
   ]
  },
  {
   "cell_type": "markdown",
   "metadata": {},
   "source": [
    "So By Predicting 0 we got a good accuracy but this does not serve the purpose of the problem\n",
    "<br>\n",
    "Our main aim is to seperate fraud and non-frauds\n",
    "<br>\n",
    "Hence Accuracy is not the right measure for handling this type of (imbalanced) data"
   ]
  },
  {
   "cell_type": "markdown",
   "metadata": {},
   "source": [
    "### Now We will check following Evalution Metrics\n",
    "- Precision Recall\n",
    "- F1 Score (Harmonic Mean of Precision and Recall)\n",
    "- AUROC (Degree or measure of separability)"
   ]
  },
  {
   "cell_type": "code",
   "execution_count": 8,
   "metadata": {
    "ExecuteTime": {
     "end_time": "2019-08-17T04:51:24.791595Z",
     "start_time": "2019-08-17T04:51:24.616690Z"
    }
   },
   "outputs": [
    {
     "name": "stdout",
     "output_type": "stream",
     "text": [
      "Confusion Matrix\n",
      "       0  1\n",
      "0  56858  0\n",
      "1    104  0\n",
      "\n",
      "For Class 1\n",
      "f1 Score : 0.0\n",
      "Precision Score : 0.0\n",
      "Recall Score : 0.0\n",
      "\n",
      "For Class 0\n",
      "f1 Score : 0.9990862765770515\n",
      "Precision Score : 0.9981742214107651\n",
      "Recall Score : 1.0\n",
      "\n",
      "AUROC : 0.5\n"
     ]
    }
   ],
   "source": [
    "eval_metrics(ytest, pred_0, pred_0)"
   ]
  },
  {
   "cell_type": "markdown",
   "metadata": {},
   "source": [
    "Precision, Recall, F1 Score and AUROC came out very bad\n",
    "<br>\n",
    "This shows accuracy is not the right measure for Imbalanced Data"
   ]
  },
  {
   "cell_type": "markdown",
   "metadata": {},
   "source": [
    "# Logistic Regression"
   ]
  },
  {
   "cell_type": "code",
   "execution_count": 9,
   "metadata": {
    "ExecuteTime": {
     "end_time": "2019-08-17T04:53:53.114251Z",
     "start_time": "2019-08-17T04:53:50.201792Z"
    }
   },
   "outputs": [],
   "source": [
    "lrclf = LogisticRegression().fit(Xtrain, ytrain)\n",
    "pred_test_lr_class = lrclf.predict(Xtest)\n",
    "pred_test_lr = lrclf.predict_proba(Xtest)"
   ]
  },
  {
   "cell_type": "code",
   "execution_count": 10,
   "metadata": {
    "ExecuteTime": {
     "end_time": "2019-08-17T04:53:54.996471Z",
     "start_time": "2019-08-17T04:53:54.861150Z"
    }
   },
   "outputs": [
    {
     "name": "stdout",
     "output_type": "stream",
     "text": [
      "Accuracy : 0.9991046662687406\n",
      "Confusion Matrix\n",
      "       0   1\n",
      "0  56846  12\n",
      "1     39  65\n",
      "\n",
      "For Class 1\n",
      "f1 Score : 0.7182320441988951\n",
      "Precision Score : 0.8441558441558441\n",
      "Recall Score : 0.625\n",
      "\n",
      "For Class 0\n",
      "f1 Score : 0.9995516207590797\n",
      "Precision Score : 0.9993144062582403\n",
      "Recall Score : 0.9997889479053079\n",
      "\n",
      "AUROC : 0.9127790013988966\n"
     ]
    }
   ],
   "source": [
    "# Checking accuracy\n",
    "print(\"Accuracy :\", accuracy_score(ytest, pred_test_lr_class))\n",
    "eval_metrics(ytest, pred_test_lr_class, pred_test_lr[:,1])"
   ]
  },
  {
   "cell_type": "markdown",
   "metadata": {},
   "source": [
    "## Findings\n",
    "- Accuracy as well as Precision, Recall, F1 Score and AUROC Improved\n",
    "- Further Improvement will be checked"
   ]
  },
  {
   "cell_type": "markdown",
   "metadata": {},
   "source": [
    "# Resampling Techniques "
   ]
  },
  {
   "cell_type": "markdown",
   "metadata": {},
   "source": [
    "## Undersampling Majority Class "
   ]
  },
  {
   "cell_type": "code",
   "execution_count": 11,
   "metadata": {
    "ExecuteTime": {
     "end_time": "2019-08-17T04:54:40.886062Z",
     "start_time": "2019-08-17T04:54:40.786452Z"
    }
   },
   "outputs": [
    {
     "name": "stdout",
     "output_type": "stream",
     "text": [
      "0.001705816923638314\n"
     ]
    }
   ],
   "source": [
    "X = pd.concat([Xtrain, ytrain], axis=1)\n",
    "# Seperating Data according to class\n",
    "zero = X[X.Class == 0]\n",
    "one = X[X.Class == 1]\n",
    "print(len(one)/len(zero))"
   ]
  },
  {
   "cell_type": "code",
   "execution_count": 12,
   "metadata": {
    "ExecuteTime": {
     "end_time": "2019-08-17T04:55:39.353361Z",
     "start_time": "2019-08-17T04:55:38.807918Z"
    }
   },
   "outputs": [
    {
     "name": "stdout",
     "output_type": "stream",
     "text": [
      "Sample 1\n",
      "1    388\n",
      "0    388\n",
      "Name: Class, dtype: int64\n",
      "Sample 2\n",
      "0    776\n",
      "1    388\n",
      "Name: Class, dtype: int64\n",
      "Sample 3\n",
      "0    1940\n",
      "1     388\n",
      "Name: Class, dtype: int64\n",
      "Sample 4\n",
      "0    19400\n",
      "1      388\n",
      "Name: Class, dtype: int64\n",
      "Sample 5\n",
      "0    38800\n",
      "1      388\n",
      "Name: Class, dtype: int64\n",
      "Sample 6\n",
      "0    77600\n",
      "1      388\n",
      "Name: Class, dtype: int64\n",
      "Sample 7\n",
      "0    194000\n",
      "1       388\n",
      "Name: Class, dtype: int64\n"
     ]
    }
   ],
   "source": [
    "# Undersampling Zeros (Majority Class)\n",
    "# Zeros are around 580 time of Ones\n",
    "zero_under1 = resample(zero, replace = False, n_samples = int(round(len(one)*1,0)), random_state = 111)\n",
    "zero_under2 = resample(zero, replace = False, n_samples = int(round(len(one)*2,0)), random_state = 111)\n",
    "zero_under3 = resample(zero, replace = False, n_samples = int(round(len(one)*5,0)), random_state = 111)\n",
    "zero_under4 = resample(zero, replace = False, n_samples = int(round(len(one)*50,0)), random_state = 111)\n",
    "zero_under5 = resample(zero, replace = False, n_samples = int(round(len(one)*100,0)), random_state = 111)\n",
    "zero_under6 = resample(zero, replace = False, n_samples = int(round(len(one)*200,0)), random_state = 111)\n",
    "zero_under7 = resample(zero, replace = False, n_samples = int(round(len(one)*500,0)), random_state = 111)\n",
    "\n",
    "# Final Undersampled Data\n",
    "undersampled1 = pd.concat([zero_under1, one]).reset_index(drop = True)\n",
    "undersampled2 = pd.concat([zero_under2, one]).reset_index(drop = True)\n",
    "undersampled3 = pd.concat([zero_under3, one]).reset_index(drop = True)\n",
    "undersampled4 = pd.concat([zero_under4, one]).reset_index(drop = True)\n",
    "undersampled5 = pd.concat([zero_under5, one]).reset_index(drop = True)\n",
    "undersampled6 = pd.concat([zero_under6, one]).reset_index(drop = True)\n",
    "undersampled7 = pd.concat([zero_under7, one]).reset_index(drop = True)\n",
    "\n",
    "print(\"Sample 1\")\n",
    "print(undersampled1.Class.value_counts())\n",
    "print(\"Sample 2\")\n",
    "print(undersampled2.Class.value_counts())\n",
    "print(\"Sample 3\")\n",
    "print(undersampled3.Class.value_counts())\n",
    "print(\"Sample 4\")\n",
    "print(undersampled4.Class.value_counts())\n",
    "print(\"Sample 5\")\n",
    "print(undersampled5.Class.value_counts())\n",
    "print(\"Sample 6\")\n",
    "print(undersampled6.Class.value_counts())\n",
    "print(\"Sample 7\")\n",
    "print(undersampled7.Class.value_counts())"
   ]
  },
  {
   "cell_type": "code",
   "execution_count": 13,
   "metadata": {
    "ExecuteTime": {
     "end_time": "2019-08-17T04:56:09.669776Z",
     "start_time": "2019-08-17T04:56:05.203791Z"
    }
   },
   "outputs": [],
   "source": [
    "# Model Fitting on Undersampled Data\n",
    "us_lrclf1 = LogisticRegression().fit(undersampled1.drop(columns = 'Class'), undersampled1.Class)\n",
    "us_lrclf2 = LogisticRegression().fit(undersampled2.drop(columns = 'Class'), undersampled2.Class)\n",
    "us_lrclf3 = LogisticRegression().fit(undersampled3.drop(columns = 'Class'), undersampled3.Class)\n",
    "us_lrclf4 = LogisticRegression().fit(undersampled4.drop(columns = 'Class'), undersampled4.Class)\n",
    "us_lrclf5 = LogisticRegression().fit(undersampled5.drop(columns = 'Class'), undersampled5.Class)\n",
    "us_lrclf6 = LogisticRegression().fit(undersampled6.drop(columns = 'Class'), undersampled6.Class)\n",
    "us_lrclf7 = LogisticRegression().fit(undersampled7.drop(columns = 'Class'), undersampled7.Class)\n",
    "\n",
    "# Predicting on Test\n",
    "pred_test_lr_us_class1 = us_lrclf1.predict(Xtest)\n",
    "pred_test_lr_us_class2 = us_lrclf2.predict(Xtest)\n",
    "pred_test_lr_us_class3 = us_lrclf3.predict(Xtest)\n",
    "pred_test_lr_us_class4 = us_lrclf4.predict(Xtest)\n",
    "pred_test_lr_us_class5 = us_lrclf5.predict(Xtest)\n",
    "pred_test_lr_us_class6 = us_lrclf6.predict(Xtest)\n",
    "pred_test_lr_us_class7 = us_lrclf7.predict(Xtest)\n",
    "\n",
    "pred_test_lr_us1 = us_lrclf1.predict_proba(Xtest)\n",
    "pred_test_lr_us2 = us_lrclf2.predict_proba(Xtest)\n",
    "pred_test_lr_us3 = us_lrclf3.predict_proba(Xtest)\n",
    "pred_test_lr_us4 = us_lrclf4.predict_proba(Xtest)\n",
    "pred_test_lr_us5 = us_lrclf5.predict_proba(Xtest)\n",
    "pred_test_lr_us6 = us_lrclf6.predict_proba(Xtest)\n",
    "pred_test_lr_us7 = us_lrclf7.predict_proba(Xtest)\n"
   ]
  },
  {
   "cell_type": "code",
   "execution_count": 14,
   "metadata": {
    "ExecuteTime": {
     "end_time": "2019-08-17T04:56:14.077393Z",
     "start_time": "2019-08-17T04:56:13.173971Z"
    },
    "scrolled": false
   },
   "outputs": [
    {
     "name": "stdout",
     "output_type": "stream",
     "text": [
      "Sample 1\n",
      "Accuracy :  0.9724026544011798\n",
      "Confusion Matrix\n",
      "       0     1\n",
      "0  55299  1559\n",
      "1     13    91\n",
      "\n",
      "For Class 1\n",
      "f1 Score : 0.10376282782212086\n",
      "Precision Score : 0.05515151515151515\n",
      "Recall Score : 0.875\n",
      "\n",
      "For Class 0\n",
      "f1 Score : 0.9859855576357315\n",
      "Precision Score : 0.9997649696268441\n",
      "Recall Score : 0.9725808153645925\n",
      "\n",
      "AUROC : 0.9627969949428671\n",
      "\n",
      "Sample 2\n",
      "Accuracy :  0.9925037744461219\n",
      "Confusion Matrix\n",
      "       0    1\n",
      "0  56451  407\n",
      "1     20   84\n",
      "\n",
      "For Class 1\n",
      "f1 Score : 0.2823529411764706\n",
      "Precision Score : 0.1710794297352342\n",
      "Recall Score : 0.8076923076923077\n",
      "\n",
      "For Class 0\n",
      "f1 Score : 0.9962322088785749\n",
      "Precision Score : 0.9996458359157798\n",
      "Recall Score : 0.9928418164550283\n",
      "\n",
      "AUROC : 0.937597070434578\n",
      "\n",
      "Sample 3\n",
      "Accuracy :  0.9960675538078017\n",
      "Confusion Matrix\n",
      "       0    1\n",
      "0  56662  196\n",
      "1     28   76\n",
      "\n",
      "For Class 1\n",
      "f1 Score : 0.4042553191489362\n",
      "Precision Score : 0.27941176470588236\n",
      "Recall Score : 0.7307692307692307\n",
      "\n",
      "For Class 0\n",
      "f1 Score : 0.9980272660020432\n",
      "Precision Score : 0.9995060857294056\n",
      "Recall Score : 0.9965528157866966\n",
      "\n",
      "AUROC : 0.9233371868379254\n",
      "\n",
      "Sample 4\n",
      "Accuracy :  0.9979284435237527\n",
      "Confusion Matrix\n",
      "       0   1\n",
      "0  56764  94\n",
      "1     24  80\n",
      "\n",
      "For Class 1\n",
      "f1 Score : 0.5755395683453237\n",
      "Precision Score : 0.45977011494252873\n",
      "Recall Score : 0.7692307692307693\n",
      "\n",
      "For Class 0\n",
      "f1 Score : 0.9989616880488534\n",
      "Precision Score : 0.9995773755018665\n",
      "Recall Score : 0.9983467585915791\n",
      "\n",
      "AUROC : 0.9302264818968713\n",
      "\n",
      "Sample 5\n",
      "Accuracy :  0.9984726659878516\n",
      "Confusion Matrix\n",
      "       0   1\n",
      "0  56809  49\n",
      "1     38  66\n",
      "\n",
      "For Class 1\n",
      "f1 Score : 0.6027397260273972\n",
      "Precision Score : 0.5739130434782609\n",
      "Recall Score : 0.6346153846153846\n",
      "\n",
      "For Class 0\n",
      "f1 Score : 0.9992348621432655\n",
      "Precision Score : 0.9993315390433972\n",
      "Recall Score : 0.9991382039466742\n",
      "\n",
      "AUROC : 0.9057366597488481\n",
      "\n",
      "Sample 6\n",
      "Accuracy :  0.9987886661282961\n",
      "Confusion Matrix\n",
      "       0   1\n",
      "0  56818  40\n",
      "1     29  75\n",
      "\n",
      "For Class 1\n",
      "f1 Score : 0.6849315068493151\n",
      "Precision Score : 0.6521739130434783\n",
      "Recall Score : 0.7211538461538461\n",
      "\n",
      "For Class 0\n",
      "f1 Score : 0.9993931665274175\n",
      "Precision Score : 0.9994898587436453\n",
      "Recall Score : 0.9992964930176932\n",
      "\n",
      "AUROC : 0.9203159963958796\n",
      "\n",
      "Sample 7\n",
      "Accuracy :  0.9990168884519505\n",
      "Confusion Matrix\n",
      "       0   1\n",
      "0  56840  18\n",
      "1     38  66\n",
      "\n",
      "For Class 1\n",
      "f1 Score : 0.7021276595744681\n",
      "Precision Score : 0.7857142857142857\n",
      "Recall Score : 0.6346153846153846\n",
      "\n",
      "For Class 0\n",
      "f1 Score : 0.9995076317085181\n",
      "Precision Score : 0.9993319033721298\n",
      "Recall Score : 0.999683421857962\n",
      "\n",
      "AUROC : 0.9168233209858838\n"
     ]
    }
   ],
   "source": [
    "# Checking accuracy\n",
    "print(\"Sample 1\")\n",
    "print(\"Accuracy : \",accuracy_score(ytest, pred_test_lr_us_class1))\n",
    "eval_metrics(ytest, pred_test_lr_us_class1, pred_test_lr_us1[:,1])\n",
    "print(\"\")\n",
    "print(\"Sample 2\")\n",
    "print(\"Accuracy : \",accuracy_score(ytest, pred_test_lr_us_class2))\n",
    "eval_metrics(ytest, pred_test_lr_us_class2, pred_test_lr_us2[:,1])\n",
    "print(\"\")\n",
    "print(\"Sample 3\")\n",
    "print(\"Accuracy : \",accuracy_score(ytest, pred_test_lr_us_class3))\n",
    "eval_metrics(ytest, pred_test_lr_us_class3, pred_test_lr_us3[:,1])\n",
    "print(\"\")\n",
    "print(\"Sample 4\")\n",
    "print(\"Accuracy : \",accuracy_score(ytest, pred_test_lr_us_class4))\n",
    "eval_metrics(ytest, pred_test_lr_us_class4, pred_test_lr_us4[:,1])\n",
    "print(\"\")\n",
    "print(\"Sample 5\")\n",
    "print(\"Accuracy : \",accuracy_score(ytest, pred_test_lr_us_class5))\n",
    "eval_metrics(ytest, pred_test_lr_us_class5, pred_test_lr_us5[:,1])\n",
    "print(\"\")\n",
    "print(\"Sample 6\")\n",
    "print(\"Accuracy : \",accuracy_score(ytest, pred_test_lr_us_class6))\n",
    "eval_metrics(ytest, pred_test_lr_us_class6, pred_test_lr_us6[:,1])\n",
    "print(\"\")\n",
    "print(\"Sample 7\")\n",
    "print(\"Accuracy : \",accuracy_score(ytest, pred_test_lr_us_class7))\n",
    "eval_metrics(ytest, pred_test_lr_us_class7, pred_test_lr_us7[:,1])"
   ]
  },
  {
   "cell_type": "markdown",
   "metadata": {
    "ExecuteTime": {
     "end_time": "2019-08-15T13:44:21.333262Z",
     "start_time": "2019-08-15T13:44:21.324603Z"
    }
   },
   "source": [
    "## Findings\n",
    "### Simple Logistic Regression Result\n",
    "- Accuracy : 0.999\n",
    "- f1 Score : 0.718\n",
    "- Precision Score : 0.844\n",
    "- Recall Score : 0.625\n",
    "- AUROC : 0.913\n",
    "### Best Result after Undersampling\n",
    "- Accuracy ~ 0.999\n",
    "- f1 Score - 0.702\n",
    "- Precision Score - 0.786\n",
    "- Recall Score - 0.634\n",
    "- AUROC - 0.917\n",
    "\n",
    "Recall and AUROC has improved while Precision and F1 Score does not\n",
    "<br>\n",
    "Reason could be we are missing some info by eliminating some values and model is predicting some 0 Class as 1 Class this results in decrease in precision and F1 Score"
   ]
  },
  {
   "cell_type": "markdown",
   "metadata": {},
   "source": [
    "## Oversampling Minority Class "
   ]
  },
  {
   "cell_type": "code",
   "execution_count": 15,
   "metadata": {
    "ExecuteTime": {
     "end_time": "2019-08-17T05:00:27.394725Z",
     "start_time": "2019-08-17T05:00:26.174452Z"
    }
   },
   "outputs": [
    {
     "name": "stdout",
     "output_type": "stream",
     "text": [
      "Sample 1\n",
      "1    227457\n",
      "0    227457\n",
      "Name: Class, dtype: int64\n",
      "Sample 2\n",
      "0    227457\n",
      "1    170593\n",
      "Name: Class, dtype: int64\n",
      "Sample 3\n",
      "0    227457\n",
      "1    113728\n",
      "Name: Class, dtype: int64\n",
      "Sample 4\n",
      "0    227457\n",
      "1     56864\n",
      "Name: Class, dtype: int64\n",
      "Sample 5\n",
      "0    227457\n",
      "1     22746\n",
      "Name: Class, dtype: int64\n",
      "Sample 6\n",
      "0    227457\n",
      "1      4549\n",
      "Name: Class, dtype: int64\n",
      "Sample 7\n",
      "0    227457\n",
      "1      1137\n",
      "Name: Class, dtype: int64\n"
     ]
    }
   ],
   "source": [
    "# Over Sampling Class 1\n",
    "one_over1 = resample(one, replace = True, n_samples = int(round(len(zero)*1,0)), random_state = 111)\n",
    "one_over2 = resample(one, replace = True, n_samples = int(round(len(zero)*0.75,0)), random_state = 111)\n",
    "one_over3 = resample(one, replace = True, n_samples = int(round(len(zero)*0.5,0)), random_state = 111)\n",
    "one_over4 = resample(one, replace = True, n_samples = int(round(len(zero)*0.25,0)), random_state = 111)\n",
    "one_over5 = resample(one, replace = True, n_samples = int(round(len(zero)*0.1,0)), random_state = 111)\n",
    "one_over6 = resample(one, replace = True, n_samples = int(round(len(zero)*0.02,0)), random_state = 111)\n",
    "one_over7 = resample(one, replace = True, n_samples = int(round(len(zero)*0.005,0)), random_state = 111)\n",
    "# Oversampled Data\n",
    "oversampled1 = pd.concat([zero, one_over1]).reset_index(drop = True)\n",
    "oversampled2 = pd.concat([zero, one_over2]).reset_index(drop = True)\n",
    "oversampled3 = pd.concat([zero, one_over3]).reset_index(drop = True)\n",
    "oversampled4 = pd.concat([zero, one_over4]).reset_index(drop = True)\n",
    "oversampled5 = pd.concat([zero, one_over5]).reset_index(drop = True)\n",
    "oversampled6 = pd.concat([zero, one_over6]).reset_index(drop = True)\n",
    "oversampled7 = pd.concat([zero, one_over7]).reset_index(drop = True)\n",
    "print(\"Sample 1\")\n",
    "print(oversampled1.Class.value_counts())\n",
    "print(\"Sample 2\")\n",
    "print(oversampled2.Class.value_counts())\n",
    "print(\"Sample 3\")\n",
    "print(oversampled3.Class.value_counts())\n",
    "print(\"Sample 4\")\n",
    "print(oversampled4.Class.value_counts())\n",
    "print(\"Sample 5\")\n",
    "print(oversampled5.Class.value_counts())\n",
    "print(\"Sample 6\")\n",
    "print(oversampled6.Class.value_counts())\n",
    "print(\"Sample 7\")\n",
    "print(oversampled7.Class.value_counts())"
   ]
  },
  {
   "cell_type": "code",
   "execution_count": 16,
   "metadata": {
    "ExecuteTime": {
     "end_time": "2019-08-17T05:01:11.873104Z",
     "start_time": "2019-08-17T05:00:49.641258Z"
    }
   },
   "outputs": [],
   "source": [
    "os_lrclf1 = LogisticRegression().fit(oversampled1.drop(columns = 'Class'), oversampled1.Class)\n",
    "os_lrclf2 = LogisticRegression().fit(oversampled2.drop(columns = 'Class'), oversampled2.Class)\n",
    "os_lrclf3 = LogisticRegression().fit(oversampled3.drop(columns = 'Class'), oversampled3.Class)\n",
    "os_lrclf4 = LogisticRegression().fit(oversampled4.drop(columns = 'Class'), oversampled4.Class)\n",
    "os_lrclf5 = LogisticRegression().fit(oversampled5.drop(columns = 'Class'), oversampled5.Class)\n",
    "os_lrclf6 = LogisticRegression().fit(oversampled6.drop(columns = 'Class'), oversampled6.Class)\n",
    "os_lrclf7 = LogisticRegression().fit(oversampled7.drop(columns = 'Class'), oversampled7.Class)\n",
    "\n",
    "pred_test_lr_os1 = os_lrclf1.predict_proba(Xtest)\n",
    "pred_test_lr_os2 = os_lrclf2.predict_proba(Xtest)\n",
    "pred_test_lr_os3 = os_lrclf3.predict_proba(Xtest)\n",
    "pred_test_lr_os4 = os_lrclf4.predict_proba(Xtest)\n",
    "pred_test_lr_os5 = os_lrclf5.predict_proba(Xtest)\n",
    "pred_test_lr_os6 = os_lrclf6.predict_proba(Xtest)\n",
    "pred_test_lr_os7 = os_lrclf7.predict_proba(Xtest)\n",
    "\n",
    "pred_test_lr_os_class1 = os_lrclf1.predict(Xtest)\n",
    "pred_test_lr_os_class2 = os_lrclf2.predict(Xtest)\n",
    "pred_test_lr_os_class3 = os_lrclf3.predict(Xtest)\n",
    "pred_test_lr_os_class4 = os_lrclf4.predict(Xtest)\n",
    "pred_test_lr_os_class5 = os_lrclf5.predict(Xtest)\n",
    "pred_test_lr_os_class6 = os_lrclf6.predict(Xtest)\n",
    "pred_test_lr_os_class7 = os_lrclf7.predict(Xtest)"
   ]
  },
  {
   "cell_type": "code",
   "execution_count": 17,
   "metadata": {
    "ExecuteTime": {
     "end_time": "2019-08-17T05:01:58.172570Z",
     "start_time": "2019-08-17T05:01:57.416284Z"
    },
    "scrolled": false
   },
   "outputs": [
    {
     "name": "stdout",
     "output_type": "stream",
     "text": [
      "Sample 1\n",
      "Accuracy : 0.9808819915031073\n",
      "Confusion Matrix\n",
      "       0     1\n",
      "0  55783  1075\n",
      "1     14    90\n",
      "\n",
      "For Class 1\n",
      "f1 Score : 0.14184397163120568\n",
      "Precision Score : 0.07725321888412018\n",
      "Recall Score : 0.8653846153846154\n",
      "\n",
      "For Class 0\n",
      "f1 Score : 0.9903333185389019\n",
      "Precision Score : 0.9997490904528917\n",
      "Recall Score : 0.9810932498505047\n",
      "\n",
      "AUROC : 0.9569983048187523\n",
      "\n",
      "Sample 2\n",
      "Accuracy : 0.9897826621256276\n",
      "Confusion Matrix\n",
      "       0    1\n",
      "0  56296  562\n",
      "1     20   84\n",
      "\n",
      "For Class 1\n",
      "f1 Score : 0.22400000000000003\n",
      "Precision Score : 0.13003095975232198\n",
      "Recall Score : 0.8076923076923077\n",
      "\n",
      "For Class 0\n",
      "f1 Score : 0.9948574760987507\n",
      "Precision Score : 0.999644861140706\n",
      "Recall Score : 0.9901157268985895\n",
      "\n",
      "AUROC : 0.9405786886088692\n",
      "\n",
      "Sample 3\n",
      "Accuracy : 0.993750219444542\n",
      "Confusion Matrix\n",
      "       0    1\n",
      "0  56524  334\n",
      "1     22   82\n",
      "\n",
      "For Class 1\n",
      "f1 Score : 0.3153846153846154\n",
      "Precision Score : 0.1971153846153846\n",
      "Recall Score : 0.7884615384615384\n",
      "\n",
      "For Class 0\n",
      "f1 Score : 0.9968607809248351\n",
      "Precision Score : 0.999610936228911\n",
      "Recall Score : 0.9941257166977382\n",
      "\n",
      "AUROC : 0.9320346301312039\n",
      "\n",
      "Sample 4\n",
      "Accuracy : 0.9936448860643938\n",
      "Confusion Matrix\n",
      "       0    1\n",
      "0  56516  342\n",
      "1     20   84\n",
      "\n",
      "For Class 1\n",
      "f1 Score : 0.3169811320754717\n",
      "Precision Score : 0.19718309859154928\n",
      "Recall Score : 0.8076923076923077\n",
      "\n",
      "For Class 0\n",
      "f1 Score : 0.9968075912305766\n",
      "Precision Score : 0.9996462431017404\n",
      "Recall Score : 0.9939850153012769\n",
      "\n",
      "AUROC : 0.9403818419436274\n",
      "\n",
      "Sample 5\n",
      "Accuracy : 0.9963133316948141\n",
      "Confusion Matrix\n",
      "       0    1\n",
      "0  56672  186\n",
      "1     24   80\n",
      "\n",
      "For Class 1\n",
      "f1 Score : 0.43243243243243246\n",
      "Precision Score : 0.3007518796992481\n",
      "Recall Score : 0.7692307692307693\n",
      "\n",
      "For Class 0\n",
      "f1 Score : 0.9981506595980767\n",
      "Precision Score : 0.9995766897135601\n",
      "Recall Score : 0.9967286925322734\n",
      "\n",
      "AUROC : 0.9303183098515329\n",
      "\n",
      "Sample 6\n",
      "Accuracy : 0.9972086654260736\n",
      "Confusion Matrix\n",
      "       0    1\n",
      "0  56721  137\n",
      "1     22   82\n",
      "\n",
      "For Class 1\n",
      "f1 Score : 0.5077399380804953\n",
      "Precision Score : 0.3744292237442922\n",
      "Recall Score : 0.7884615384615384\n",
      "\n",
      "For Class 0\n",
      "f1 Score : 0.9986003644334117\n",
      "Precision Score : 0.9996122869781294\n",
      "Recall Score : 0.9975904885855992\n",
      "\n",
      "AUROC : 0.9361616456110635\n",
      "\n",
      "Sample 7\n",
      "Accuracy : 0.9990519995786665\n",
      "Confusion Matrix\n",
      "       0   1\n",
      "0  56834  24\n",
      "1     30  74\n",
      "\n",
      "For Class 1\n",
      "f1 Score : 0.7326732673267328\n",
      "Precision Score : 0.7551020408163265\n",
      "Recall Score : 0.7115384615384616\n",
      "\n",
      "For Class 0\n",
      "f1 Score : 0.999525157841051\n",
      "Precision Score : 0.9994724254361284\n",
      "Recall Score : 0.999577895810616\n",
      "\n",
      "AUROC : 0.9214947088157541\n"
     ]
    }
   ],
   "source": [
    "print(\"Sample 1\")\n",
    "print(\"Accuracy :\", accuracy_score(ytest, pred_test_lr_os_class1))\n",
    "eval_metrics(ytest, pred_test_lr_os_class1, pred_test_lr_os1[:,1])\n",
    "print(\"\")\n",
    "print(\"Sample 2\")\n",
    "print(\"Accuracy :\", accuracy_score(ytest, pred_test_lr_os_class2))\n",
    "eval_metrics(ytest, pred_test_lr_os_class2, pred_test_lr_os2[:,1])\n",
    "print(\"\")\n",
    "print(\"Sample 3\")\n",
    "print(\"Accuracy :\", accuracy_score(ytest, pred_test_lr_os_class3))\n",
    "eval_metrics(ytest, pred_test_lr_os_class3, pred_test_lr_os3[:,1])\n",
    "print(\"\")\n",
    "print(\"Sample 4\")\n",
    "print(\"Accuracy :\", accuracy_score(ytest, pred_test_lr_os_class4))\n",
    "eval_metrics(ytest, pred_test_lr_os_class4, pred_test_lr_os4[:,1])\n",
    "print(\"\")\n",
    "print(\"Sample 5\")\n",
    "print(\"Accuracy :\", accuracy_score(ytest, pred_test_lr_os_class5))\n",
    "eval_metrics(ytest, pred_test_lr_os_class5, pred_test_lr_os5[:,1])\n",
    "print(\"\")\n",
    "print(\"Sample 6\")\n",
    "print(\"Accuracy :\", accuracy_score(ytest, pred_test_lr_os_class6))\n",
    "eval_metrics(ytest, pred_test_lr_os_class6, pred_test_lr_os6[:,1])\n",
    "print(\"\")\n",
    "print(\"Sample 7\")\n",
    "print(\"Accuracy :\", accuracy_score(ytest, pred_test_lr_os_class7))\n",
    "eval_metrics(ytest, pred_test_lr_os_class7, pred_test_lr_os7[:,1])"
   ]
  },
  {
   "cell_type": "code",
   "execution_count": null,
   "metadata": {
    "ExecuteTime": {
     "end_time": "2019-08-15T16:55:02.920300Z",
     "start_time": "2019-08-15T16:55:02.405147Z"
    }
   },
   "outputs": [],
   "source": [
    "pred_train_lr_os7 = os_lrclf7.predict_proba(Xtrain)\n",
    "pred_train_lr_os_class7 = os_lrclf7.predict(Xtrain)\n",
    "print(\"Accuracy :\", accuracy_score(ytrain, pred_train_lr_os_class7))\n",
    "eval_metrics(ytrain, pred_train_lr_os_class7, pred_train_lr_os7[:,1])"
   ]
  },
  {
   "cell_type": "markdown",
   "metadata": {},
   "source": [
    "## Findings\n",
    "### Simple Logistic Regression Result\n",
    "- Accuracy : 0.999\n",
    "- f1 Score : 0.718\n",
    "- Precision Score : 0.844\n",
    "- Recall Score : 0.625\n",
    "- AUROC : 0.913\n",
    "\n",
    "### Best Result after oversampling\n",
    "- Accuracy : 0.999\n",
    "- f1 Score : 0.733\n",
    "- Precision Score : 0.755\n",
    "- Recall Score : 0.712\n",
    "- AUROC - 0.921\n",
    "\n",
    "So Oversampling gave better results than Logistic regression, but we have to tune Oversampling Parameter"
   ]
  },
  {
   "cell_type": "markdown",
   "metadata": {},
   "source": [
    "## Generate Synthetic Samples"
   ]
  },
  {
   "cell_type": "code",
   "execution_count": 18,
   "metadata": {
    "ExecuteTime": {
     "end_time": "2019-08-17T05:06:12.947357Z",
     "start_time": "2019-08-17T05:06:08.033920Z"
    }
   },
   "outputs": [],
   "source": [
    "Xtrain_sm1, ytrain_sm1 = SMOTE(random_state=27, ratio=1.0).fit_sample(Xtrain, ytrain)\n",
    "Xtrain_sm2, ytrain_sm2 = SMOTE(random_state=27, ratio=0.8).fit_sample(Xtrain, ytrain)\n",
    "Xtrain_sm3, ytrain_sm3 = SMOTE(random_state=27, ratio=0.5).fit_sample(Xtrain, ytrain)\n",
    "Xtrain_sm4, ytrain_sm4 = SMOTE(random_state=27, ratio=0.1).fit_sample(Xtrain, ytrain)\n",
    "Xtrain_sm5, ytrain_sm5 = SMOTE(random_state=27, ratio=0.05).fit_sample(Xtrain, ytrain)\n",
    "Xtrain_sm6, ytrain_sm6 = SMOTE(random_state=27, ratio=0.01).fit_sample(Xtrain, ytrain)\n",
    "Xtrain_sm7, ytrain_sm7 = SMOTE(random_state=27, ratio=0.005).fit_sample(Xtrain, ytrain)"
   ]
  },
  {
   "cell_type": "code",
   "execution_count": 19,
   "metadata": {
    "ExecuteTime": {
     "end_time": "2019-08-17T05:06:17.161250Z",
     "start_time": "2019-08-17T05:06:17.100477Z"
    }
   },
   "outputs": [
    {
     "name": "stdout",
     "output_type": "stream",
     "text": [
      "Normal Data\n",
      "0    227457\n",
      "1       388\n",
      "Name: Class, dtype: int64\n",
      "Sample 1\n",
      "1    227457\n",
      "0    227457\n",
      "Name: 0, dtype: int64\n",
      "Sample 2\n",
      "0    227457\n",
      "1    181965\n",
      "Name: 0, dtype: int64\n",
      "Sample 3\n",
      "0    227457\n",
      "1    113728\n",
      "Name: 0, dtype: int64\n",
      "Sample 4\n",
      "0    227457\n",
      "1     22745\n",
      "Name: 0, dtype: int64\n",
      "Sample 5\n",
      "0    227457\n",
      "1     11372\n",
      "Name: 0, dtype: int64\n",
      "Sample 6\n",
      "0    227457\n",
      "1      2274\n",
      "Name: 0, dtype: int64\n",
      "Sample 7\n",
      "0    227457\n",
      "1      1137\n",
      "Name: 0, dtype: int64\n"
     ]
    }
   ],
   "source": [
    "print(\"Normal Data\")\n",
    "print(ytrain.value_counts())\n",
    "print(\"Sample 1\")\n",
    "print(pd.DataFrame(ytrain_sm1)[0].value_counts())\n",
    "print(\"Sample 2\")\n",
    "print(pd.DataFrame(ytrain_sm2)[0].value_counts())\n",
    "print(\"Sample 3\")\n",
    "print(pd.DataFrame(ytrain_sm3)[0].value_counts())\n",
    "print(\"Sample 4\")\n",
    "print(pd.DataFrame(ytrain_sm4)[0].value_counts())\n",
    "print(\"Sample 5\")\n",
    "print(pd.DataFrame(ytrain_sm5)[0].value_counts())\n",
    "print(\"Sample 6\")\n",
    "print(pd.DataFrame(ytrain_sm6)[0].value_counts())\n",
    "print(\"Sample 7\")\n",
    "print(pd.DataFrame(ytrain_sm7)[0].value_counts())"
   ]
  },
  {
   "cell_type": "code",
   "execution_count": 20,
   "metadata": {
    "ExecuteTime": {
     "end_time": "2019-08-17T05:07:01.578959Z",
     "start_time": "2019-08-17T05:06:39.065301Z"
    }
   },
   "outputs": [],
   "source": [
    "sm_lrclf1 = LogisticRegression().fit(Xtrain_sm1, ytrain_sm1)\n",
    "sm_lrclf2 = LogisticRegression().fit(Xtrain_sm2, ytrain_sm2)\n",
    "sm_lrclf3 = LogisticRegression().fit(Xtrain_sm3, ytrain_sm3)\n",
    "sm_lrclf4 = LogisticRegression().fit(Xtrain_sm4, ytrain_sm4)\n",
    "sm_lrclf5 = LogisticRegression().fit(Xtrain_sm5, ytrain_sm5)\n",
    "sm_lrclf6 = LogisticRegression().fit(Xtrain_sm6, ytrain_sm6)\n",
    "sm_lrclf7 = LogisticRegression().fit(Xtrain_sm7, ytrain_sm7)\n",
    "\n",
    "pred_test_lr_sm1 = sm_lrclf1.predict_proba(Xtest)\n",
    "pred_test_lr_sm2 = sm_lrclf2.predict_proba(Xtest)\n",
    "pred_test_lr_sm3 = sm_lrclf3.predict_proba(Xtest)\n",
    "pred_test_lr_sm4 = sm_lrclf4.predict_proba(Xtest)\n",
    "pred_test_lr_sm5 = sm_lrclf5.predict_proba(Xtest)\n",
    "pred_test_lr_sm6 = sm_lrclf6.predict_proba(Xtest)\n",
    "pred_test_lr_sm7 = sm_lrclf7.predict_proba(Xtest)\n",
    "\n",
    "pred_test_lr_sm_class1 = sm_lrclf1.predict(Xtest)\n",
    "pred_test_lr_sm_class2 = sm_lrclf2.predict(Xtest)\n",
    "pred_test_lr_sm_class3 = sm_lrclf3.predict(Xtest)\n",
    "pred_test_lr_sm_class4 = sm_lrclf4.predict(Xtest)\n",
    "pred_test_lr_sm_class5 = sm_lrclf5.predict(Xtest)\n",
    "pred_test_lr_sm_class6 = sm_lrclf6.predict(Xtest)\n",
    "pred_test_lr_sm_class7 = sm_lrclf7.predict(Xtest)"
   ]
  },
  {
   "cell_type": "code",
   "execution_count": 21,
   "metadata": {
    "ExecuteTime": {
     "end_time": "2019-08-17T05:07:08.198050Z",
     "start_time": "2019-08-17T05:07:06.738555Z"
    },
    "scrolled": false
   },
   "outputs": [
    {
     "name": "stdout",
     "output_type": "stream",
     "text": [
      "Sample 1\n",
      "Accuracy :  0.9834977704434535\n",
      "Confusion Matrix\n",
      "       0    1\n",
      "0  55931  927\n",
      "1     13   91\n",
      "\n",
      "For Class 1\n",
      "f1 Score : 0.1622103386809269\n",
      "Precision Score : 0.0893909626719057\n",
      "Recall Score : 0.875\n",
      "\n",
      "For Class 0\n",
      "f1 Score : 0.991666814418184\n",
      "Precision Score : 0.9997676247676248\n",
      "Recall Score : 0.9836962256850399\n",
      "\n",
      "AUROC : 0.9580973653663513\n",
      "\n",
      "Sample 2\n",
      "Accuracy :  0.9910115515606895\n",
      "Confusion Matrix\n",
      "       0    1\n",
      "0  56363  495\n",
      "1     17   87\n",
      "\n",
      "For Class 1\n",
      "f1 Score : 0.2536443148688047\n",
      "Precision Score : 0.14948453608247422\n",
      "Recall Score : 0.8365384615384616\n",
      "\n",
      "For Class 0\n",
      "f1 Score : 0.99547854960349\n",
      "Precision Score : 0.9996984746363959\n",
      "Recall Score : 0.9912941010939533\n",
      "\n",
      "AUROC : 0.942209945424093\n",
      "\n",
      "Sample 3\n",
      "Accuracy :  0.9930479969102208\n",
      "Confusion Matrix\n",
      "       0    1\n",
      "0  56479  379\n",
      "1     17   87\n",
      "\n",
      "For Class 1\n",
      "f1 Score : 0.30526315789473685\n",
      "Precision Score : 0.18669527896995708\n",
      "Recall Score : 0.8365384615384616\n",
      "\n",
      "For Class 0\n",
      "f1 Score : 0.9965065193994036\n",
      "Precision Score : 0.9996990937411498\n",
      "Recall Score : 0.9933342713426431\n",
      "\n",
      "AUROC : 0.9401229310806679\n",
      "\n",
      "Sample 4\n",
      "Accuracy :  0.9955408869070609\n",
      "Confusion Matrix\n",
      "       0    1\n",
      "0  56625  233\n",
      "1     21   83\n",
      "\n",
      "For Class 1\n",
      "f1 Score : 0.3952380952380952\n",
      "Precision Score : 0.2626582278481013\n",
      "Recall Score : 0.7980769230769231\n",
      "\n",
      "For Class 0\n",
      "f1 Score : 0.9977621934028756\n",
      "Precision Score : 0.9996292765596865\n",
      "Recall Score : 0.9959020718280629\n",
      "\n",
      "AUROC : 0.9369341503935581\n",
      "\n",
      "Sample 5\n",
      "Accuracy :  0.9963835539482462\n",
      "Confusion Matrix\n",
      "       0    1\n",
      "0  56676  182\n",
      "1     24   80\n",
      "\n",
      "For Class 1\n",
      "f1 Score : 0.43715846994535523\n",
      "Precision Score : 0.3053435114503817\n",
      "Recall Score : 0.7692307692307693\n",
      "\n",
      "For Class 0\n",
      "f1 Score : 0.9981859490304514\n",
      "Precision Score : 0.9995767195767196\n",
      "Recall Score : 0.9967990432305041\n",
      "\n",
      "AUROC : 0.9318881789180604\n",
      "\n",
      "Sample 6\n",
      "Accuracy :  0.9987886661282961\n",
      "Confusion Matrix\n",
      "       0   1\n",
      "0  56811  47\n",
      "1     22  82\n",
      "\n",
      "For Class 1\n",
      "f1 Score : 0.703862660944206\n",
      "Precision Score : 0.6356589147286822\n",
      "Recall Score : 0.7884615384615384\n",
      "\n",
      "For Class 0\n",
      "f1 Score : 0.9993930918014619\n",
      "Precision Score : 0.9996129009554309\n",
      "Recall Score : 0.9991733792957895\n",
      "\n",
      "AUROC : 0.9299078744077689\n",
      "\n",
      "Sample 7\n",
      "Accuracy :  0.9990695551420246\n",
      "Confusion Matrix\n",
      "       0   1\n",
      "0  56832  26\n",
      "1     27  77\n",
      "\n",
      "For Class 1\n",
      "f1 Score : 0.7439613526570048\n",
      "Precision Score : 0.7475728155339806\n",
      "Recall Score : 0.7403846153846154\n",
      "\n",
      "For Class 0\n",
      "f1 Score : 0.9995339307227592\n",
      "Precision Score : 0.999525141138606\n",
      "Recall Score : 0.9995427204615006\n",
      "\n",
      "AUROC : 0.9235597385659822\n"
     ]
    }
   ],
   "source": [
    "print(\"Sample 1\")\n",
    "print(\"Accuracy : \", accuracy_score(ytest, pred_test_lr_sm_class1))\n",
    "eval_metrics(ytest, pred_test_lr_sm_class1, pred_test_lr_sm1[:,1])\n",
    "print(\"\")\n",
    "print(\"Sample 2\")\n",
    "print(\"Accuracy : \", accuracy_score(ytest, pred_test_lr_sm_class2))\n",
    "eval_metrics(ytest, pred_test_lr_sm_class2, pred_test_lr_sm2[:,1])\n",
    "print(\"\")\n",
    "print(\"Sample 3\")\n",
    "print(\"Accuracy : \", accuracy_score(ytest, pred_test_lr_sm_class3))\n",
    "eval_metrics(ytest, pred_test_lr_sm_class3, pred_test_lr_sm3[:,1])\n",
    "print(\"\")\n",
    "print(\"Sample 4\")\n",
    "print(\"Accuracy : \", accuracy_score(ytest, pred_test_lr_sm_class4))\n",
    "eval_metrics(ytest, pred_test_lr_sm_class4, pred_test_lr_sm4[:,1])\n",
    "print(\"\")\n",
    "print(\"Sample 5\")\n",
    "print(\"Accuracy : \", accuracy_score(ytest, pred_test_lr_sm_class5))\n",
    "eval_metrics(ytest, pred_test_lr_sm_class5, pred_test_lr_sm5[:,1])\n",
    "print(\"\")\n",
    "print(\"Sample 6\")\n",
    "print(\"Accuracy : \", accuracy_score(ytest, pred_test_lr_sm_class6))\n",
    "eval_metrics(ytest, pred_test_lr_sm_class6, pred_test_lr_sm6[:,1])\n",
    "print(\"\")\n",
    "print(\"Sample 7\")\n",
    "print(\"Accuracy : \", accuracy_score(ytest, pred_test_lr_sm_class7))\n",
    "eval_metrics(ytest, pred_test_lr_sm_class7, pred_test_lr_sm7[:,1])"
   ]
  },
  {
   "cell_type": "markdown",
   "metadata": {},
   "source": [
    "## Findings\n",
    "### Simple Logistic Regression Result\n",
    "- Accuracy : 0.999\n",
    "- f1 Score : 0.718\n",
    "- Precision Score : 0.844\n",
    "- Recall Score : 0.625\n",
    "- AUROC : 0.913\n",
    "\n",
    "### Best Result after oversampling\n",
    "- Accuracy : 0.999\n",
    "- f1 Score : 0.744\n",
    "- Precision Score : 0.747\n",
    "- Recall Score : 0.740\n",
    "- AUROC - 0.924\n",
    "\n",
    "A little bit of Precision went down but other Metrices improved as compared to Simple Logistic regression"
   ]
  },
  {
   "cell_type": "markdown",
   "metadata": {},
   "source": [
    "## Cluster Centroids UnderSampling"
   ]
  },
  {
   "cell_type": "code",
   "execution_count": null,
   "metadata": {
    "ExecuteTime": {
     "end_time": "2019-08-15T16:55:41.580490Z",
     "start_time": "2019-08-15T16:55:26.715028Z"
    }
   },
   "outputs": [],
   "source": [
    "from imblearn.under_sampling import ClusterCentroids\n",
    "\n",
    "cc = ClusterCentroids(ratio={0: 10})\n",
    "Xtrain_cc, ytrain_cc = cc.fit_sample(Xtrain, ytrain)"
   ]
  },
  {
   "cell_type": "code",
   "execution_count": null,
   "metadata": {
    "ExecuteTime": {
     "end_time": "2019-08-15T16:55:41.607689Z",
     "start_time": "2019-08-15T16:55:41.584264Z"
    }
   },
   "outputs": [],
   "source": [
    "cc_lrclf = LogisticRegression().fit(Xtrain_cc, ytrain_cc)\n",
    "pred_test_lr_cc = cc_lrclf.predict_proba(Xtest)\n",
    "pred_test_lr_cc_class = cc_lrclf.predict(Xtest)"
   ]
  },
  {
   "cell_type": "code",
   "execution_count": null,
   "metadata": {
    "ExecuteTime": {
     "end_time": "2019-08-15T16:55:41.762922Z",
     "start_time": "2019-08-15T16:55:41.611502Z"
    }
   },
   "outputs": [],
   "source": [
    "print(\"Accuracy : \", accuracy_score(ytest, pred_test_lr_cc_class))\n",
    "eval_metrics(ytest, pred_test_lr_cc_class, pred_test_lr_cc[:,1])"
   ]
  },
  {
   "cell_type": "markdown",
   "metadata": {},
   "source": [
    "# Change in algorithms "
   ]
  },
  {
   "cell_type": "markdown",
   "metadata": {},
   "source": [
    "## Random Forest "
   ]
  },
  {
   "cell_type": "code",
   "execution_count": 22,
   "metadata": {
    "ExecuteTime": {
     "end_time": "2019-08-17T05:17:23.756743Z",
     "start_time": "2019-08-17T05:11:57.040086Z"
    }
   },
   "outputs": [],
   "source": [
    "# Random Forest\n",
    "rfclf1 = RandomForestClassifier(n_estimators=120).fit(Xtrain, ytrain)\n",
    "rfclf2 = RandomForestClassifier(n_estimators=120, class_weight = 'balanced_subsample').fit(Xtrain, ytrain)\n",
    "# predict on test set\n",
    "pred_test_rf1 = rfclf1.predict_proba(Xtest)\n",
    "pred_test_rf2 = rfclf2.predict_proba(Xtest)\n",
    "\n",
    "pred_test_rf_class1 = rfclf1.predict(Xtest)\n",
    "pred_test_rf_class2 = rfclf2.predict(Xtest)"
   ]
  },
  {
   "cell_type": "code",
   "execution_count": 23,
   "metadata": {
    "ExecuteTime": {
     "end_time": "2019-08-17T05:22:31.038798Z",
     "start_time": "2019-08-17T05:22:30.756267Z"
    }
   },
   "outputs": [
    {
     "name": "stdout",
     "output_type": "stream",
     "text": [
      "Model 1\n",
      "Accuracy :  0.9996137776061234\n",
      "Confusion Matrix\n",
      "       0   1\n",
      "0  56856   2\n",
      "1     20  84\n",
      "\n",
      "For Class 1\n",
      "f1 Score : 0.8842105263157894\n",
      "Precision Score : 0.9767441860465116\n",
      "Recall Score : 0.8076923076923077\n",
      "\n",
      "For Class 0\n",
      "f1 Score : 0.9998065661983223\n",
      "Precision Score : 0.9996483578310711\n",
      "Recall Score : 0.9999648246508847\n",
      "\n",
      "AUROC : 0.9356368902826745\n",
      "\n",
      "Model 2\n",
      "Accuracy :  0.9995435553526912\n",
      "Confusion Matrix\n",
      "       0   1\n",
      "0  56855   3\n",
      "1     23  81\n",
      "\n",
      "For Class 1\n",
      "f1 Score : 0.8617021276595744\n",
      "Precision Score : 0.9642857142857143\n",
      "Recall Score : 0.7788461538461539\n",
      "\n",
      "For Class 0\n",
      "f1 Score : 0.9997714004360977\n",
      "Precision Score : 0.9995956257252365\n",
      "Recall Score : 0.999947236976327\n",
      "\n",
      "AUROC : 0.9455210788279574\n"
     ]
    }
   ],
   "source": [
    "print(\"Model 1\")\n",
    "print(\"Accuracy : \", accuracy_score(ytest, pred_test_rf_class1))\n",
    "eval_metrics(ytest, pred_test_rf_class1, pred_test_rf1[:,1])\n",
    "print(\"\")\n",
    "print(\"Model 2\")\n",
    "print(\"Accuracy : \", accuracy_score(ytest, pred_test_rf_class2))\n",
    "eval_metrics(ytest, pred_test_rf_class2, pred_test_rf2[:,1])"
   ]
  },
  {
   "cell_type": "markdown",
   "metadata": {},
   "source": [
    "## Findings\n",
    "### Simple Logistic Regression Result\n",
    "- Accuracy : 0.999\n",
    "- f1 Score : 0.718\n",
    "- Precision Score : 0.844\n",
    "- Recall Score : 0.625\n",
    "- AUROC : 0.913\n",
    "\n",
    "### Best Result after oversampling\n",
    "- Accuracy : 0.999\n",
    "- f1 Score : 0.744\n",
    "- Precision Score : 0.747\n",
    "- Recall Score : 0.740\n",
    "- AUROC - 0.924\n",
    "\n",
    "### Result of Random Forest\n",
    "- Accuracy : 0.9995\n",
    "- f1 Score : 0.862\n",
    "- Precision Score : 0.964\n",
    "- Recall Score : 0.779\n",
    "- AUROC : 0.946\n",
    "\n",
    "Random Forest has improved results in all fronts as compared to Oversampling\n",
    "But using class_weight = 'balanced_subsample' improved result more"
   ]
  },
  {
   "cell_type": "markdown",
   "metadata": {},
   "source": [
    "## XGBoost "
   ]
  },
  {
   "cell_type": "code",
   "execution_count": 24,
   "metadata": {
    "ExecuteTime": {
     "end_time": "2019-08-17T05:27:17.363705Z",
     "start_time": "2019-08-17T05:26:18.145551Z"
    }
   },
   "outputs": [],
   "source": [
    "import xgboost as xgb\n",
    "xgbclf1 = xgb.XGBClassifier(max_depth=3, learning_rate=0.05, n_estimators=200, verbosity=0, silent=None, objective='binary:logistic', \n",
    "booster='gbtree', n_jobs=1, nthread=None, gamma=0, min_child_weight=1, max_delta_step=0, subsample=0.5, \n",
    "colsample_bytree=0.33, scale_pos_weight=1, random_state=0, seed=None, missing=None).fit(Xtrain, ytrain)\n",
    "\n",
    "pred_test_xgb1_class = xgbclf1.predict(Xtest)\n",
    "pred_test_xgb1 = xgbclf1.predict_proba(Xtest)\n"
   ]
  },
  {
   "cell_type": "code",
   "execution_count": 25,
   "metadata": {
    "ExecuteTime": {
     "end_time": "2019-08-17T05:28:30.941628Z",
     "start_time": "2019-08-17T05:27:28.967170Z"
    }
   },
   "outputs": [],
   "source": [
    "xgbclf2 = xgb.XGBClassifier(max_depth=3, learning_rate=0.05, n_estimators=200, verbosity=0, silent=None, objective='binary:logistic', \n",
    "booster='gbtree', n_jobs=1, nthread=None, gamma=0, min_child_weight=1, max_delta_step=0, subsample=0.5, \n",
    "colsample_bytree=0.33, scale_pos_weight=25, random_state=0, seed=None, missing=None).fit(Xtrain, ytrain)\n",
    "\n",
    "pred_test_xgb2_class = xgbclf2.predict(Xtest)\n",
    "pred_test_xgb2 = xgbclf2.predict_proba(Xtest)\n"
   ]
  },
  {
   "cell_type": "code",
   "execution_count": 26,
   "metadata": {
    "ExecuteTime": {
     "end_time": "2019-08-17T05:28:55.954867Z",
     "start_time": "2019-08-17T05:28:55.706073Z"
    }
   },
   "outputs": [
    {
     "name": "stdout",
     "output_type": "stream",
     "text": [
      "Model 1\n",
      "Accuracy :  0.9996137776061234\n",
      "Confusion Matrix\n",
      "       0   1\n",
      "0  56856   2\n",
      "1     20  84\n",
      "\n",
      "For Class 1\n",
      "f1 Score : 0.8842105263157894\n",
      "Precision Score : 0.9767441860465116\n",
      "Recall Score : 0.8076923076923077\n",
      "\n",
      "For Class 0\n",
      "f1 Score : 0.9998065661983223\n",
      "Precision Score : 0.9996483578310711\n",
      "Recall Score : 0.9999648246508847\n",
      "\n",
      "AUROC : 0.9791312094637924\n",
      "Model 2\n",
      "Accuracy :  0.9992626663389628\n",
      "Confusion Matrix\n",
      "       0   1\n",
      "0  56835  23\n",
      "1     19  85\n",
      "\n",
      "For Class 1\n",
      "f1 Score : 0.8018867924528303\n",
      "Precision Score : 0.7870370370370371\n",
      "Recall Score : 0.8173076923076923\n",
      "\n",
      "For Class 0\n",
      "f1 Score : 0.9996306458421275\n",
      "Precision Score : 0.9996658106729518\n",
      "Recall Score : 0.9995954834851736\n",
      "\n",
      "AUROC : 0.9820651379820714\n"
     ]
    }
   ],
   "source": [
    "print(\"Model 1\")\n",
    "print(\"Accuracy : \", accuracy_score(ytest, pred_test_xgb1_class))\n",
    "eval_metrics(ytest, pred_test_xgb1_class, pred_test_xgb1[:,1])\n",
    "print(\"Model 2\")\n",
    "print(\"Accuracy : \", accuracy_score(ytest, pred_test_xgb2_class))\n",
    "eval_metrics(ytest, pred_test_xgb2_class, pred_test_xgb2[:,1])"
   ]
  },
  {
   "cell_type": "markdown",
   "metadata": {},
   "source": [
    "## Findings\n",
    "### Simple Logistic Regression Result\n",
    "- Accuracy : 0.999\n",
    "- f1 Score : 0.718\n",
    "- Precision Score : 0.844\n",
    "- Recall Score : 0.625\n",
    "- AUROC : 0.913\n",
    "\n",
    "### Best Result after oversampling\n",
    "- Accuracy : 0.999\n",
    "- f1 Score : 0.744\n",
    "- Precision Score : 0.747\n",
    "- Recall Score : 0.740\n",
    "- AUROC - 0.924\n",
    "\n",
    "### Random Forest Results\n",
    "- Accuracy : 0.9995\n",
    "- f1 Score : 0.884\n",
    "- Precision Score : 0.977\n",
    "- Recall Score : 0.808\n",
    "- AUROC : 0.946\n",
    "\n",
    "### Xgboost Results (w/o scale_pos_weight)\n",
    "- Accuracy :  0.9996\n",
    "- f1 Score : 0.884\n",
    "- Precision Score : 0.977\n",
    "- Recall Score : 0.808\n",
    "- AUROC : 0.979\n",
    "\n",
    "### Xgboost Results (with scale_pos_weight)\n",
    "- Accuracy : 0.999\n",
    "- f1 Score : 0.802\n",
    "- Precision Score : 0.787\n",
    "- Recall Score : 0.817\n",
    "- AUROC : 0.982\n",
    "\n",
    "#### For Normal XGBoost\n",
    "It has improved over RF in terms of AUROC and have Precision, Recall at same\n",
    "#### For XGBoost with scale_pos_weight\n",
    "- AUROC has further improved over Normal XGBoost\n",
    "- Recall has improved but Precision and F1 Score went bit down"
   ]
  },
  {
   "cell_type": "markdown",
   "metadata": {},
   "source": [
    "## LightGBM "
   ]
  },
  {
   "cell_type": "code",
   "execution_count": 27,
   "metadata": {
    "ExecuteTime": {
     "end_time": "2019-08-17T05:34:03.771989Z",
     "start_time": "2019-08-17T05:34:00.703978Z"
    }
   },
   "outputs": [],
   "source": [
    "lgbclf1 = lgb.LGBMClassifier(boosting_type='gbdt', num_leaves=7, max_depth=3, learning_rate=0.05, n_estimators=100, \n",
    "                        objective=None, min_child_weight=0.001, min_child_samples=20, subsample=0.5, \n",
    "                        subsample_freq=5, colsample_bytree=0.25, random_state=2019, n_jobs=-1, reg_alpha=0.0, reg_lambda=0.0,\n",
    "                             silent=True, importance_type='gain', eval_metric = 'auc').fit(Xtrain, ytrain)\n",
    "pred_test_lgb1_class = lgbclf1.predict(Xtest)\n",
    "pred_test_lgb1 = lgbclf1.predict_proba(Xtest)\n"
   ]
  },
  {
   "cell_type": "code",
   "execution_count": 28,
   "metadata": {
    "ExecuteTime": {
     "end_time": "2019-08-17T05:34:32.924791Z",
     "start_time": "2019-08-17T05:34:29.298830Z"
    }
   },
   "outputs": [],
   "source": [
    "lgbclf2 = lgb.LGBMClassifier(boosting_type='gbdt', num_leaves=4, max_depth=-1, learning_rate=0.05, n_estimators=200, \n",
    "                        objective=None, min_child_weight=0.001, min_child_samples=20, \n",
    "                        subsample_freq=5, colsample_bytree=0.25, reg_alpha=0.0, reg_lambda=0.0, \n",
    "                        random_state=2019, n_jobs=-1, silent=True, importance_type='gain', eval_metric = 'auc', \n",
    "                             pos_bagging_fraction = 1, neg_bagging_fraction = 0.45).fit(Xtrain, ytrain)\n",
    "pred_test_lgb2_class = lgbclf2.predict(Xtest)\n",
    "pred_test_lgb2 = lgbclf2.predict_proba(Xtest)\n"
   ]
  },
  {
   "cell_type": "code",
   "execution_count": 30,
   "metadata": {
    "ExecuteTime": {
     "end_time": "2019-08-17T05:34:42.713649Z",
     "start_time": "2019-08-17T05:34:42.493130Z"
    }
   },
   "outputs": [
    {
     "name": "stdout",
     "output_type": "stream",
     "text": [
      "Model 1\n",
      "Accuracy :  0.9990871107053826\n",
      "Confusion Matrix\n",
      "       0   1\n",
      "0  56837  21\n",
      "1     31  73\n",
      "\n",
      "For Class 1\n",
      "f1 Score : 0.7373737373737373\n",
      "Precision Score : 0.776595744680851\n",
      "Recall Score : 0.7019230769230769\n",
      "\n",
      "For Class 0\n",
      "f1 Score : 0.9995427606703832\n",
      "Precision Score : 0.999454877963002\n",
      "Recall Score : 0.9996306588342889\n",
      "\n",
      "AUROC : 0.9712162485760748\n",
      "\n",
      "Model 2\n",
      "Accuracy :  0.9994557775359011\n",
      "Confusion Matrix\n",
      "       0   1\n",
      "0  56849   9\n",
      "1     22  82\n",
      "\n",
      "For Class 1\n",
      "f1 Score : 0.841025641025641\n",
      "Precision Score : 0.9010989010989011\n",
      "Recall Score : 0.7884615384615384\n",
      "\n",
      "For Class 0\n",
      "f1 Score : 0.9997274222054181\n",
      "Precision Score : 0.9996131596068295\n",
      "Recall Score : 0.999841710928981\n",
      "\n",
      "AUROC : 0.9784663446318359\n"
     ]
    }
   ],
   "source": [
    "print(\"Model 1\")\n",
    "print(\"Accuracy : \", accuracy_score(ytest, pred_test_lgb1_class))\n",
    "eval_metrics(ytest, pred_test_lgb1_class, pred_test_lgb1[:,1])\n",
    "print(\"\")\n",
    "print(\"Model 2\")\n",
    "print(\"Accuracy : \", accuracy_score(ytest, pred_test_lgb2_class))\n",
    "eval_metrics(ytest, pred_test_lgb2_class, pred_test_lgb2[:,1])"
   ]
  },
  {
   "cell_type": "markdown",
   "metadata": {},
   "source": [
    "## Findings\n",
    "### Simple Logistic Regression Result\n",
    "- Accuracy : 0.999\n",
    "- f1 Score : 0.718\n",
    "- Precision Score : 0.844\n",
    "- Recall Score : 0.625\n",
    "- AUROC : 0.913\n",
    "\n",
    "### Best Result after oversampling\n",
    "- Accuracy : 0.999\n",
    "- f1 Score : 0.744\n",
    "- Precision Score : 0.747\n",
    "- Recall Score : 0.740\n",
    "- AUROC - 0.924\n",
    "\n",
    "### Random Forest Results\n",
    "- Accuracy : 0.9995\n",
    "- f1 Score : 0.884\n",
    "- Precision Score : 0.977\n",
    "- Recall Score : 0.808\n",
    "- AUROC : 0.946\n",
    "\n",
    "### Xgboost Results (with scale_pos_weight)\n",
    "- AUROC : 0.979\n",
    "- f1 Score : 0.802\n",
    "- Precision Score : 0.787\n",
    "- Recall Score : 0.817\n",
    "- AUROC : 0.982\n",
    "\n",
    "### LGBM\n",
    "- f1 Score : 0.737\n",
    "- Precision Score : 0.777\n",
    "- Recall Score : 0.702\n",
    "- AUROC : 0.971\n",
    "\n",
    "### LGBM with sampling\n",
    "- f1 Score : 0.841\n",
    "- Precision Score : 0.901\n",
    "- Recall Score : 0.788\n",
    "- AUROC : 0.978\n",
    "\n",
    "Normal LGBM has relatively poor precision, recall and relatively less AUROC\n",
    "<br>\n",
    "Where as LGBM with sampling has better AUC, Precision Recall and F1 Score"
   ]
  }
 ],
 "metadata": {
  "kernelspec": {
   "display_name": "Python 3",
   "language": "python",
   "name": "python3"
  },
  "language_info": {
   "codemirror_mode": {
    "name": "ipython",
    "version": 3
   },
   "file_extension": ".py",
   "mimetype": "text/x-python",
   "name": "python",
   "nbconvert_exporter": "python",
   "pygments_lexer": "ipython3",
   "version": "3.7.3"
  },
  "varInspector": {
   "cols": {
    "lenName": 16,
    "lenType": 16,
    "lenVar": 40
   },
   "kernels_config": {
    "python": {
     "delete_cmd_postfix": "",
     "delete_cmd_prefix": "del ",
     "library": "var_list.py",
     "varRefreshCmd": "print(var_dic_list())"
    },
    "r": {
     "delete_cmd_postfix": ") ",
     "delete_cmd_prefix": "rm(",
     "library": "var_list.r",
     "varRefreshCmd": "cat(var_dic_list()) "
    }
   },
   "types_to_exclude": [
    "module",
    "function",
    "builtin_function_or_method",
    "instance",
    "_Feature"
   ],
   "window_display": false
  }
 },
 "nbformat": 4,
 "nbformat_minor": 2
}
